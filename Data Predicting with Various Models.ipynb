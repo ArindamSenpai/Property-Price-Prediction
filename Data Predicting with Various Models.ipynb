{
 "cells": [
  {
   "cell_type": "code",
   "execution_count": 1,
   "id": "105afe9a",
   "metadata": {},
   "outputs": [],
   "source": [
    "import pandas as pd\n",
    "import numpy as np\n",
    "import matplotlib.pyplot as plt\n",
    "from scipy import stats"
   ]
  },
  {
   "cell_type": "code",
   "execution_count": 2,
   "id": "0f835867",
   "metadata": {},
   "outputs": [],
   "source": [
    "from sklearn.model_selection import train_test_split, cross_val_score\n",
    "from sklearn.preprocessing import normalize, StandardScaler, PolynomialFeatures\n",
    "from sklearn.linear_model import Lasso, Ridge, LinearRegression, LassoCV, RidgeCV\n",
    "from sklearn.svm import SVR\n",
    "import xgboost as xb\n",
    "from sklearn.ensemble import RandomForestRegressor, BaggingRegressor\n",
    "import tensorflow as tf\n",
    "from tensorflow.keras.models import Sequential\n",
    "from tensorflow.keras.layers import Dense\n",
    "from sklearn.metrics import mean_squared_error, r2_score"
   ]
  },
  {
   "cell_type": "code",
   "execution_count": 3,
   "id": "c73aa9fb",
   "metadata": {},
   "outputs": [],
   "source": [
    "dx = pd.read_excel('Final Preprocssed Data.xlsx')"
   ]
  },
  {
   "cell_type": "code",
   "execution_count": 4,
   "id": "662dd3a7",
   "metadata": {},
   "outputs": [],
   "source": [
    "# X and Y :\n",
    "x = dx.drop(columns=['rent'])\n",
    "y = dx['rent']"
   ]
  },
  {
   "cell_type": "code",
   "execution_count": 5,
   "id": "f9f22c79",
   "metadata": {},
   "outputs": [],
   "source": [
    "xtr, xts, ytr, yts = train_test_split( x, y, test_size=0.2, random_state=40)"
   ]
  },
  {
   "cell_type": "code",
   "execution_count": 6,
   "id": "03622e8a",
   "metadata": {},
   "outputs": [],
   "source": [
    "scl = StandardScaler()"
   ]
  },
  {
   "cell_type": "code",
   "execution_count": 7,
   "id": "60ffd576",
   "metadata": {},
   "outputs": [],
   "source": [
    "ytr = ytr.to_numpy()\n",
    "yts = yts.to_numpy()"
   ]
  },
  {
   "cell_type": "code",
   "execution_count": 8,
   "id": "0ae5b951",
   "metadata": {},
   "outputs": [],
   "source": [
    "ytr=ytr.reshape(-1,1)\n",
    "yts=yts.reshape(-1,1)"
   ]
  },
  {
   "cell_type": "code",
   "execution_count": 9,
   "id": "5ce9846f",
   "metadata": {},
   "outputs": [],
   "source": [
    "xtrs = scl.fit_transform(xtr)\n",
    "xtss = scl.fit_transform(xts)"
   ]
  },
  {
   "cell_type": "markdown",
   "id": "63db18e7",
   "metadata": {},
   "source": [
    "## L1"
   ]
  },
  {
   "cell_type": "code",
   "execution_count": 10,
   "id": "666193eb",
   "metadata": {},
   "outputs": [
    {
     "name": "stderr",
     "output_type": "stream",
     "text": [
      "C:\\Users\\DELL\\AppData\\Roaming\\Python\\Python311\\site-packages\\sklearn\\linear_model\\_coordinate_descent.py:1568: DataConversionWarning: A column-vector y was passed when a 1d array was expected. Please change the shape of y to (n_samples, ), for example using ravel().\n",
      "  y = column_or_1d(y, warn=True)\n"
     ]
    },
    {
     "data": {
      "text/html": [
       "<style>#sk-container-id-1 {color: black;background-color: white;}#sk-container-id-1 pre{padding: 0;}#sk-container-id-1 div.sk-toggleable {background-color: white;}#sk-container-id-1 label.sk-toggleable__label {cursor: pointer;display: block;width: 100%;margin-bottom: 0;padding: 0.3em;box-sizing: border-box;text-align: center;}#sk-container-id-1 label.sk-toggleable__label-arrow:before {content: \"▸\";float: left;margin-right: 0.25em;color: #696969;}#sk-container-id-1 label.sk-toggleable__label-arrow:hover:before {color: black;}#sk-container-id-1 div.sk-estimator:hover label.sk-toggleable__label-arrow:before {color: black;}#sk-container-id-1 div.sk-toggleable__content {max-height: 0;max-width: 0;overflow: hidden;text-align: left;background-color: #f0f8ff;}#sk-container-id-1 div.sk-toggleable__content pre {margin: 0.2em;color: black;border-radius: 0.25em;background-color: #f0f8ff;}#sk-container-id-1 input.sk-toggleable__control:checked~div.sk-toggleable__content {max-height: 200px;max-width: 100%;overflow: auto;}#sk-container-id-1 input.sk-toggleable__control:checked~label.sk-toggleable__label-arrow:before {content: \"▾\";}#sk-container-id-1 div.sk-estimator input.sk-toggleable__control:checked~label.sk-toggleable__label {background-color: #d4ebff;}#sk-container-id-1 div.sk-label input.sk-toggleable__control:checked~label.sk-toggleable__label {background-color: #d4ebff;}#sk-container-id-1 input.sk-hidden--visually {border: 0;clip: rect(1px 1px 1px 1px);clip: rect(1px, 1px, 1px, 1px);height: 1px;margin: -1px;overflow: hidden;padding: 0;position: absolute;width: 1px;}#sk-container-id-1 div.sk-estimator {font-family: monospace;background-color: #f0f8ff;border: 1px dotted black;border-radius: 0.25em;box-sizing: border-box;margin-bottom: 0.5em;}#sk-container-id-1 div.sk-estimator:hover {background-color: #d4ebff;}#sk-container-id-1 div.sk-parallel-item::after {content: \"\";width: 100%;border-bottom: 1px solid gray;flex-grow: 1;}#sk-container-id-1 div.sk-label:hover label.sk-toggleable__label {background-color: #d4ebff;}#sk-container-id-1 div.sk-serial::before {content: \"\";position: absolute;border-left: 1px solid gray;box-sizing: border-box;top: 0;bottom: 0;left: 50%;z-index: 0;}#sk-container-id-1 div.sk-serial {display: flex;flex-direction: column;align-items: center;background-color: white;padding-right: 0.2em;padding-left: 0.2em;position: relative;}#sk-container-id-1 div.sk-item {position: relative;z-index: 1;}#sk-container-id-1 div.sk-parallel {display: flex;align-items: stretch;justify-content: center;background-color: white;position: relative;}#sk-container-id-1 div.sk-item::before, #sk-container-id-1 div.sk-parallel-item::before {content: \"\";position: absolute;border-left: 1px solid gray;box-sizing: border-box;top: 0;bottom: 0;left: 50%;z-index: -1;}#sk-container-id-1 div.sk-parallel-item {display: flex;flex-direction: column;z-index: 1;position: relative;background-color: white;}#sk-container-id-1 div.sk-parallel-item:first-child::after {align-self: flex-end;width: 50%;}#sk-container-id-1 div.sk-parallel-item:last-child::after {align-self: flex-start;width: 50%;}#sk-container-id-1 div.sk-parallel-item:only-child::after {width: 0;}#sk-container-id-1 div.sk-dashed-wrapped {border: 1px dashed gray;margin: 0 0.4em 0.5em 0.4em;box-sizing: border-box;padding-bottom: 0.4em;background-color: white;}#sk-container-id-1 div.sk-label label {font-family: monospace;font-weight: bold;display: inline-block;line-height: 1.2em;}#sk-container-id-1 div.sk-label-container {text-align: center;}#sk-container-id-1 div.sk-container {/* jupyter's `normalize.less` sets `[hidden] { display: none; }` but bootstrap.min.css set `[hidden] { display: none !important; }` so we also need the `!important` here to be able to override the default hidden behavior on the sphinx rendered scikit-learn.org. See: https://github.com/scikit-learn/scikit-learn/issues/21755 */display: inline-block !important;position: relative;}#sk-container-id-1 div.sk-text-repr-fallback {display: none;}</style><div id=\"sk-container-id-1\" class=\"sk-top-container\"><div class=\"sk-text-repr-fallback\"><pre>LassoCV(alphas=array([1.00000000e-04, 1.20450354e-04, 1.45082878e-04, 1.74752840e-04,\n",
       "       2.10490414e-04, 2.53536449e-04, 3.05385551e-04, 3.67837977e-04,\n",
       "       4.43062146e-04, 5.33669923e-04, 6.42807312e-04, 7.74263683e-04,\n",
       "       9.32603347e-04, 1.12332403e-03, 1.35304777e-03, 1.62975083e-03,\n",
       "       1.96304065e-03, 2.36448941e-03, 2.84803587e-03, 3.43046929e-03,\n",
       "       4.13201240e-03, 4.97702356e-0...\n",
       "       1.38488637e+02, 1.66810054e+02, 2.00923300e+02, 2.42012826e+02,\n",
       "       2.91505306e+02, 3.51119173e+02, 4.22924287e+02, 5.09413801e+02,\n",
       "       6.13590727e+02, 7.39072203e+02, 8.90215085e+02, 1.07226722e+03,\n",
       "       1.29154967e+03, 1.55567614e+03, 1.87381742e+03, 2.25701972e+03,\n",
       "       2.71858824e+03, 3.27454916e+03, 3.94420606e+03, 4.75081016e+03,\n",
       "       5.72236766e+03, 6.89261210e+03, 8.30217568e+03, 1.00000000e+04]),\n",
       "        cv=5)</pre><b>In a Jupyter environment, please rerun this cell to show the HTML representation or trust the notebook. <br />On GitHub, the HTML representation is unable to render, please try loading this page with nbviewer.org.</b></div><div class=\"sk-container\" hidden><div class=\"sk-item\"><div class=\"sk-estimator sk-toggleable\"><input class=\"sk-toggleable__control sk-hidden--visually\" id=\"sk-estimator-id-1\" type=\"checkbox\" checked><label for=\"sk-estimator-id-1\" class=\"sk-toggleable__label sk-toggleable__label-arrow\">LassoCV</label><div class=\"sk-toggleable__content\"><pre>LassoCV(alphas=array([1.00000000e-04, 1.20450354e-04, 1.45082878e-04, 1.74752840e-04,\n",
       "       2.10490414e-04, 2.53536449e-04, 3.05385551e-04, 3.67837977e-04,\n",
       "       4.43062146e-04, 5.33669923e-04, 6.42807312e-04, 7.74263683e-04,\n",
       "       9.32603347e-04, 1.12332403e-03, 1.35304777e-03, 1.62975083e-03,\n",
       "       1.96304065e-03, 2.36448941e-03, 2.84803587e-03, 3.43046929e-03,\n",
       "       4.13201240e-03, 4.97702356e-0...\n",
       "       1.38488637e+02, 1.66810054e+02, 2.00923300e+02, 2.42012826e+02,\n",
       "       2.91505306e+02, 3.51119173e+02, 4.22924287e+02, 5.09413801e+02,\n",
       "       6.13590727e+02, 7.39072203e+02, 8.90215085e+02, 1.07226722e+03,\n",
       "       1.29154967e+03, 1.55567614e+03, 1.87381742e+03, 2.25701972e+03,\n",
       "       2.71858824e+03, 3.27454916e+03, 3.94420606e+03, 4.75081016e+03,\n",
       "       5.72236766e+03, 6.89261210e+03, 8.30217568e+03, 1.00000000e+04]),\n",
       "        cv=5)</pre></div></div></div></div></div>"
      ],
      "text/plain": [
       "LassoCV(alphas=array([1.00000000e-04, 1.20450354e-04, 1.45082878e-04, 1.74752840e-04,\n",
       "       2.10490414e-04, 2.53536449e-04, 3.05385551e-04, 3.67837977e-04,\n",
       "       4.43062146e-04, 5.33669923e-04, 6.42807312e-04, 7.74263683e-04,\n",
       "       9.32603347e-04, 1.12332403e-03, 1.35304777e-03, 1.62975083e-03,\n",
       "       1.96304065e-03, 2.36448941e-03, 2.84803587e-03, 3.43046929e-03,\n",
       "       4.13201240e-03, 4.97702356e-0...\n",
       "       1.38488637e+02, 1.66810054e+02, 2.00923300e+02, 2.42012826e+02,\n",
       "       2.91505306e+02, 3.51119173e+02, 4.22924287e+02, 5.09413801e+02,\n",
       "       6.13590727e+02, 7.39072203e+02, 8.90215085e+02, 1.07226722e+03,\n",
       "       1.29154967e+03, 1.55567614e+03, 1.87381742e+03, 2.25701972e+03,\n",
       "       2.71858824e+03, 3.27454916e+03, 3.94420606e+03, 4.75081016e+03,\n",
       "       5.72236766e+03, 6.89261210e+03, 8.30217568e+03, 1.00000000e+04]),\n",
       "        cv=5)"
      ]
     },
     "execution_count": 10,
     "metadata": {},
     "output_type": "execute_result"
    }
   ],
   "source": [
    "alp = np.logspace(-4,4,100)\n",
    "las = LassoCV(alphas=alp, cv = 5)\n",
    "las.fit(xtr, ytr)"
   ]
  },
  {
   "cell_type": "code",
   "execution_count": 11,
   "id": "6c0ff1db",
   "metadata": {},
   "outputs": [
    {
     "data": {
      "text/plain": [
       "0.0001"
      ]
     },
     "execution_count": 11,
     "metadata": {},
     "output_type": "execute_result"
    }
   ],
   "source": [
    "opt_alp = las.alpha_\n",
    "opt_alp"
   ]
  },
  {
   "cell_type": "code",
   "execution_count": 12,
   "id": "50aaba51",
   "metadata": {},
   "outputs": [
    {
     "data": {
      "text/html": [
       "<style>#sk-container-id-2 {color: black;background-color: white;}#sk-container-id-2 pre{padding: 0;}#sk-container-id-2 div.sk-toggleable {background-color: white;}#sk-container-id-2 label.sk-toggleable__label {cursor: pointer;display: block;width: 100%;margin-bottom: 0;padding: 0.3em;box-sizing: border-box;text-align: center;}#sk-container-id-2 label.sk-toggleable__label-arrow:before {content: \"▸\";float: left;margin-right: 0.25em;color: #696969;}#sk-container-id-2 label.sk-toggleable__label-arrow:hover:before {color: black;}#sk-container-id-2 div.sk-estimator:hover label.sk-toggleable__label-arrow:before {color: black;}#sk-container-id-2 div.sk-toggleable__content {max-height: 0;max-width: 0;overflow: hidden;text-align: left;background-color: #f0f8ff;}#sk-container-id-2 div.sk-toggleable__content pre {margin: 0.2em;color: black;border-radius: 0.25em;background-color: #f0f8ff;}#sk-container-id-2 input.sk-toggleable__control:checked~div.sk-toggleable__content {max-height: 200px;max-width: 100%;overflow: auto;}#sk-container-id-2 input.sk-toggleable__control:checked~label.sk-toggleable__label-arrow:before {content: \"▾\";}#sk-container-id-2 div.sk-estimator input.sk-toggleable__control:checked~label.sk-toggleable__label {background-color: #d4ebff;}#sk-container-id-2 div.sk-label input.sk-toggleable__control:checked~label.sk-toggleable__label {background-color: #d4ebff;}#sk-container-id-2 input.sk-hidden--visually {border: 0;clip: rect(1px 1px 1px 1px);clip: rect(1px, 1px, 1px, 1px);height: 1px;margin: -1px;overflow: hidden;padding: 0;position: absolute;width: 1px;}#sk-container-id-2 div.sk-estimator {font-family: monospace;background-color: #f0f8ff;border: 1px dotted black;border-radius: 0.25em;box-sizing: border-box;margin-bottom: 0.5em;}#sk-container-id-2 div.sk-estimator:hover {background-color: #d4ebff;}#sk-container-id-2 div.sk-parallel-item::after {content: \"\";width: 100%;border-bottom: 1px solid gray;flex-grow: 1;}#sk-container-id-2 div.sk-label:hover label.sk-toggleable__label {background-color: #d4ebff;}#sk-container-id-2 div.sk-serial::before {content: \"\";position: absolute;border-left: 1px solid gray;box-sizing: border-box;top: 0;bottom: 0;left: 50%;z-index: 0;}#sk-container-id-2 div.sk-serial {display: flex;flex-direction: column;align-items: center;background-color: white;padding-right: 0.2em;padding-left: 0.2em;position: relative;}#sk-container-id-2 div.sk-item {position: relative;z-index: 1;}#sk-container-id-2 div.sk-parallel {display: flex;align-items: stretch;justify-content: center;background-color: white;position: relative;}#sk-container-id-2 div.sk-item::before, #sk-container-id-2 div.sk-parallel-item::before {content: \"\";position: absolute;border-left: 1px solid gray;box-sizing: border-box;top: 0;bottom: 0;left: 50%;z-index: -1;}#sk-container-id-2 div.sk-parallel-item {display: flex;flex-direction: column;z-index: 1;position: relative;background-color: white;}#sk-container-id-2 div.sk-parallel-item:first-child::after {align-self: flex-end;width: 50%;}#sk-container-id-2 div.sk-parallel-item:last-child::after {align-self: flex-start;width: 50%;}#sk-container-id-2 div.sk-parallel-item:only-child::after {width: 0;}#sk-container-id-2 div.sk-dashed-wrapped {border: 1px dashed gray;margin: 0 0.4em 0.5em 0.4em;box-sizing: border-box;padding-bottom: 0.4em;background-color: white;}#sk-container-id-2 div.sk-label label {font-family: monospace;font-weight: bold;display: inline-block;line-height: 1.2em;}#sk-container-id-2 div.sk-label-container {text-align: center;}#sk-container-id-2 div.sk-container {/* jupyter's `normalize.less` sets `[hidden] { display: none; }` but bootstrap.min.css set `[hidden] { display: none !important; }` so we also need the `!important` here to be able to override the default hidden behavior on the sphinx rendered scikit-learn.org. See: https://github.com/scikit-learn/scikit-learn/issues/21755 */display: inline-block !important;position: relative;}#sk-container-id-2 div.sk-text-repr-fallback {display: none;}</style><div id=\"sk-container-id-2\" class=\"sk-top-container\"><div class=\"sk-text-repr-fallback\"><pre>Lasso(alpha=0.0001, max_iter=10000)</pre><b>In a Jupyter environment, please rerun this cell to show the HTML representation or trust the notebook. <br />On GitHub, the HTML representation is unable to render, please try loading this page with nbviewer.org.</b></div><div class=\"sk-container\" hidden><div class=\"sk-item\"><div class=\"sk-estimator sk-toggleable\"><input class=\"sk-toggleable__control sk-hidden--visually\" id=\"sk-estimator-id-2\" type=\"checkbox\" checked><label for=\"sk-estimator-id-2\" class=\"sk-toggleable__label sk-toggleable__label-arrow\">Lasso</label><div class=\"sk-toggleable__content\"><pre>Lasso(alpha=0.0001, max_iter=10000)</pre></div></div></div></div></div>"
      ],
      "text/plain": [
       "Lasso(alpha=0.0001, max_iter=10000)"
      ]
     },
     "execution_count": 12,
     "metadata": {},
     "output_type": "execute_result"
    }
   ],
   "source": [
    "opt_las = Lasso(alpha=opt_alp, max_iter=10000)\n",
    "opt_las.fit(xtr,ytr)"
   ]
  },
  {
   "cell_type": "code",
   "execution_count": 13,
   "id": "6bc4638e",
   "metadata": {},
   "outputs": [
    {
     "name": "stderr",
     "output_type": "stream",
     "text": [
      "C:\\Users\\DELL\\AppData\\Roaming\\Python\\Python311\\site-packages\\sklearn\\linear_model\\_coordinate_descent.py:1568: DataConversionWarning: A column-vector y was passed when a 1d array was expected. Please change the shape of y to (n_samples, ), for example using ravel().\n",
      "  y = column_or_1d(y, warn=True)\n"
     ]
    },
    {
     "data": {
      "text/html": [
       "<style>#sk-container-id-3 {color: black;background-color: white;}#sk-container-id-3 pre{padding: 0;}#sk-container-id-3 div.sk-toggleable {background-color: white;}#sk-container-id-3 label.sk-toggleable__label {cursor: pointer;display: block;width: 100%;margin-bottom: 0;padding: 0.3em;box-sizing: border-box;text-align: center;}#sk-container-id-3 label.sk-toggleable__label-arrow:before {content: \"▸\";float: left;margin-right: 0.25em;color: #696969;}#sk-container-id-3 label.sk-toggleable__label-arrow:hover:before {color: black;}#sk-container-id-3 div.sk-estimator:hover label.sk-toggleable__label-arrow:before {color: black;}#sk-container-id-3 div.sk-toggleable__content {max-height: 0;max-width: 0;overflow: hidden;text-align: left;background-color: #f0f8ff;}#sk-container-id-3 div.sk-toggleable__content pre {margin: 0.2em;color: black;border-radius: 0.25em;background-color: #f0f8ff;}#sk-container-id-3 input.sk-toggleable__control:checked~div.sk-toggleable__content {max-height: 200px;max-width: 100%;overflow: auto;}#sk-container-id-3 input.sk-toggleable__control:checked~label.sk-toggleable__label-arrow:before {content: \"▾\";}#sk-container-id-3 div.sk-estimator input.sk-toggleable__control:checked~label.sk-toggleable__label {background-color: #d4ebff;}#sk-container-id-3 div.sk-label input.sk-toggleable__control:checked~label.sk-toggleable__label {background-color: #d4ebff;}#sk-container-id-3 input.sk-hidden--visually {border: 0;clip: rect(1px 1px 1px 1px);clip: rect(1px, 1px, 1px, 1px);height: 1px;margin: -1px;overflow: hidden;padding: 0;position: absolute;width: 1px;}#sk-container-id-3 div.sk-estimator {font-family: monospace;background-color: #f0f8ff;border: 1px dotted black;border-radius: 0.25em;box-sizing: border-box;margin-bottom: 0.5em;}#sk-container-id-3 div.sk-estimator:hover {background-color: #d4ebff;}#sk-container-id-3 div.sk-parallel-item::after {content: \"\";width: 100%;border-bottom: 1px solid gray;flex-grow: 1;}#sk-container-id-3 div.sk-label:hover label.sk-toggleable__label {background-color: #d4ebff;}#sk-container-id-3 div.sk-serial::before {content: \"\";position: absolute;border-left: 1px solid gray;box-sizing: border-box;top: 0;bottom: 0;left: 50%;z-index: 0;}#sk-container-id-3 div.sk-serial {display: flex;flex-direction: column;align-items: center;background-color: white;padding-right: 0.2em;padding-left: 0.2em;position: relative;}#sk-container-id-3 div.sk-item {position: relative;z-index: 1;}#sk-container-id-3 div.sk-parallel {display: flex;align-items: stretch;justify-content: center;background-color: white;position: relative;}#sk-container-id-3 div.sk-item::before, #sk-container-id-3 div.sk-parallel-item::before {content: \"\";position: absolute;border-left: 1px solid gray;box-sizing: border-box;top: 0;bottom: 0;left: 50%;z-index: -1;}#sk-container-id-3 div.sk-parallel-item {display: flex;flex-direction: column;z-index: 1;position: relative;background-color: white;}#sk-container-id-3 div.sk-parallel-item:first-child::after {align-self: flex-end;width: 50%;}#sk-container-id-3 div.sk-parallel-item:last-child::after {align-self: flex-start;width: 50%;}#sk-container-id-3 div.sk-parallel-item:only-child::after {width: 0;}#sk-container-id-3 div.sk-dashed-wrapped {border: 1px dashed gray;margin: 0 0.4em 0.5em 0.4em;box-sizing: border-box;padding-bottom: 0.4em;background-color: white;}#sk-container-id-3 div.sk-label label {font-family: monospace;font-weight: bold;display: inline-block;line-height: 1.2em;}#sk-container-id-3 div.sk-label-container {text-align: center;}#sk-container-id-3 div.sk-container {/* jupyter's `normalize.less` sets `[hidden] { display: none; }` but bootstrap.min.css set `[hidden] { display: none !important; }` so we also need the `!important` here to be able to override the default hidden behavior on the sphinx rendered scikit-learn.org. See: https://github.com/scikit-learn/scikit-learn/issues/21755 */display: inline-block !important;position: relative;}#sk-container-id-3 div.sk-text-repr-fallback {display: none;}</style><div id=\"sk-container-id-3\" class=\"sk-top-container\"><div class=\"sk-text-repr-fallback\"><pre>LassoCV(alphas=array([1.00000000e-04, 1.20450354e-04, 1.45082878e-04, 1.74752840e-04,\n",
       "       2.10490414e-04, 2.53536449e-04, 3.05385551e-04, 3.67837977e-04,\n",
       "       4.43062146e-04, 5.33669923e-04, 6.42807312e-04, 7.74263683e-04,\n",
       "       9.32603347e-04, 1.12332403e-03, 1.35304777e-03, 1.62975083e-03,\n",
       "       1.96304065e-03, 2.36448941e-03, 2.84803587e-03, 3.43046929e-03,\n",
       "       4.13201240e-03, 4.97702356e-0...\n",
       "       1.38488637e+02, 1.66810054e+02, 2.00923300e+02, 2.42012826e+02,\n",
       "       2.91505306e+02, 3.51119173e+02, 4.22924287e+02, 5.09413801e+02,\n",
       "       6.13590727e+02, 7.39072203e+02, 8.90215085e+02, 1.07226722e+03,\n",
       "       1.29154967e+03, 1.55567614e+03, 1.87381742e+03, 2.25701972e+03,\n",
       "       2.71858824e+03, 3.27454916e+03, 3.94420606e+03, 4.75081016e+03,\n",
       "       5.72236766e+03, 6.89261210e+03, 8.30217568e+03, 1.00000000e+04]),\n",
       "        cv=5)</pre><b>In a Jupyter environment, please rerun this cell to show the HTML representation or trust the notebook. <br />On GitHub, the HTML representation is unable to render, please try loading this page with nbviewer.org.</b></div><div class=\"sk-container\" hidden><div class=\"sk-item\"><div class=\"sk-estimator sk-toggleable\"><input class=\"sk-toggleable__control sk-hidden--visually\" id=\"sk-estimator-id-3\" type=\"checkbox\" checked><label for=\"sk-estimator-id-3\" class=\"sk-toggleable__label sk-toggleable__label-arrow\">LassoCV</label><div class=\"sk-toggleable__content\"><pre>LassoCV(alphas=array([1.00000000e-04, 1.20450354e-04, 1.45082878e-04, 1.74752840e-04,\n",
       "       2.10490414e-04, 2.53536449e-04, 3.05385551e-04, 3.67837977e-04,\n",
       "       4.43062146e-04, 5.33669923e-04, 6.42807312e-04, 7.74263683e-04,\n",
       "       9.32603347e-04, 1.12332403e-03, 1.35304777e-03, 1.62975083e-03,\n",
       "       1.96304065e-03, 2.36448941e-03, 2.84803587e-03, 3.43046929e-03,\n",
       "       4.13201240e-03, 4.97702356e-0...\n",
       "       1.38488637e+02, 1.66810054e+02, 2.00923300e+02, 2.42012826e+02,\n",
       "       2.91505306e+02, 3.51119173e+02, 4.22924287e+02, 5.09413801e+02,\n",
       "       6.13590727e+02, 7.39072203e+02, 8.90215085e+02, 1.07226722e+03,\n",
       "       1.29154967e+03, 1.55567614e+03, 1.87381742e+03, 2.25701972e+03,\n",
       "       2.71858824e+03, 3.27454916e+03, 3.94420606e+03, 4.75081016e+03,\n",
       "       5.72236766e+03, 6.89261210e+03, 8.30217568e+03, 1.00000000e+04]),\n",
       "        cv=5)</pre></div></div></div></div></div>"
      ],
      "text/plain": [
       "LassoCV(alphas=array([1.00000000e-04, 1.20450354e-04, 1.45082878e-04, 1.74752840e-04,\n",
       "       2.10490414e-04, 2.53536449e-04, 3.05385551e-04, 3.67837977e-04,\n",
       "       4.43062146e-04, 5.33669923e-04, 6.42807312e-04, 7.74263683e-04,\n",
       "       9.32603347e-04, 1.12332403e-03, 1.35304777e-03, 1.62975083e-03,\n",
       "       1.96304065e-03, 2.36448941e-03, 2.84803587e-03, 3.43046929e-03,\n",
       "       4.13201240e-03, 4.97702356e-0...\n",
       "       1.38488637e+02, 1.66810054e+02, 2.00923300e+02, 2.42012826e+02,\n",
       "       2.91505306e+02, 3.51119173e+02, 4.22924287e+02, 5.09413801e+02,\n",
       "       6.13590727e+02, 7.39072203e+02, 8.90215085e+02, 1.07226722e+03,\n",
       "       1.29154967e+03, 1.55567614e+03, 1.87381742e+03, 2.25701972e+03,\n",
       "       2.71858824e+03, 3.27454916e+03, 3.94420606e+03, 4.75081016e+03,\n",
       "       5.72236766e+03, 6.89261210e+03, 8.30217568e+03, 1.00000000e+04]),\n",
       "        cv=5)"
      ]
     },
     "execution_count": 13,
     "metadata": {},
     "output_type": "execute_result"
    }
   ],
   "source": [
    "lass = LassoCV(alphas=alp, cv = 5)\n",
    "lass.fit(xtrs, ytr)"
   ]
  },
  {
   "cell_type": "code",
   "execution_count": 14,
   "id": "6027f3df",
   "metadata": {},
   "outputs": [
    {
     "data": {
      "text/html": [
       "<style>#sk-container-id-4 {color: black;background-color: white;}#sk-container-id-4 pre{padding: 0;}#sk-container-id-4 div.sk-toggleable {background-color: white;}#sk-container-id-4 label.sk-toggleable__label {cursor: pointer;display: block;width: 100%;margin-bottom: 0;padding: 0.3em;box-sizing: border-box;text-align: center;}#sk-container-id-4 label.sk-toggleable__label-arrow:before {content: \"▸\";float: left;margin-right: 0.25em;color: #696969;}#sk-container-id-4 label.sk-toggleable__label-arrow:hover:before {color: black;}#sk-container-id-4 div.sk-estimator:hover label.sk-toggleable__label-arrow:before {color: black;}#sk-container-id-4 div.sk-toggleable__content {max-height: 0;max-width: 0;overflow: hidden;text-align: left;background-color: #f0f8ff;}#sk-container-id-4 div.sk-toggleable__content pre {margin: 0.2em;color: black;border-radius: 0.25em;background-color: #f0f8ff;}#sk-container-id-4 input.sk-toggleable__control:checked~div.sk-toggleable__content {max-height: 200px;max-width: 100%;overflow: auto;}#sk-container-id-4 input.sk-toggleable__control:checked~label.sk-toggleable__label-arrow:before {content: \"▾\";}#sk-container-id-4 div.sk-estimator input.sk-toggleable__control:checked~label.sk-toggleable__label {background-color: #d4ebff;}#sk-container-id-4 div.sk-label input.sk-toggleable__control:checked~label.sk-toggleable__label {background-color: #d4ebff;}#sk-container-id-4 input.sk-hidden--visually {border: 0;clip: rect(1px 1px 1px 1px);clip: rect(1px, 1px, 1px, 1px);height: 1px;margin: -1px;overflow: hidden;padding: 0;position: absolute;width: 1px;}#sk-container-id-4 div.sk-estimator {font-family: monospace;background-color: #f0f8ff;border: 1px dotted black;border-radius: 0.25em;box-sizing: border-box;margin-bottom: 0.5em;}#sk-container-id-4 div.sk-estimator:hover {background-color: #d4ebff;}#sk-container-id-4 div.sk-parallel-item::after {content: \"\";width: 100%;border-bottom: 1px solid gray;flex-grow: 1;}#sk-container-id-4 div.sk-label:hover label.sk-toggleable__label {background-color: #d4ebff;}#sk-container-id-4 div.sk-serial::before {content: \"\";position: absolute;border-left: 1px solid gray;box-sizing: border-box;top: 0;bottom: 0;left: 50%;z-index: 0;}#sk-container-id-4 div.sk-serial {display: flex;flex-direction: column;align-items: center;background-color: white;padding-right: 0.2em;padding-left: 0.2em;position: relative;}#sk-container-id-4 div.sk-item {position: relative;z-index: 1;}#sk-container-id-4 div.sk-parallel {display: flex;align-items: stretch;justify-content: center;background-color: white;position: relative;}#sk-container-id-4 div.sk-item::before, #sk-container-id-4 div.sk-parallel-item::before {content: \"\";position: absolute;border-left: 1px solid gray;box-sizing: border-box;top: 0;bottom: 0;left: 50%;z-index: -1;}#sk-container-id-4 div.sk-parallel-item {display: flex;flex-direction: column;z-index: 1;position: relative;background-color: white;}#sk-container-id-4 div.sk-parallel-item:first-child::after {align-self: flex-end;width: 50%;}#sk-container-id-4 div.sk-parallel-item:last-child::after {align-self: flex-start;width: 50%;}#sk-container-id-4 div.sk-parallel-item:only-child::after {width: 0;}#sk-container-id-4 div.sk-dashed-wrapped {border: 1px dashed gray;margin: 0 0.4em 0.5em 0.4em;box-sizing: border-box;padding-bottom: 0.4em;background-color: white;}#sk-container-id-4 div.sk-label label {font-family: monospace;font-weight: bold;display: inline-block;line-height: 1.2em;}#sk-container-id-4 div.sk-label-container {text-align: center;}#sk-container-id-4 div.sk-container {/* jupyter's `normalize.less` sets `[hidden] { display: none; }` but bootstrap.min.css set `[hidden] { display: none !important; }` so we also need the `!important` here to be able to override the default hidden behavior on the sphinx rendered scikit-learn.org. See: https://github.com/scikit-learn/scikit-learn/issues/21755 */display: inline-block !important;position: relative;}#sk-container-id-4 div.sk-text-repr-fallback {display: none;}</style><div id=\"sk-container-id-4\" class=\"sk-top-container\"><div class=\"sk-text-repr-fallback\"><pre>Lasso(alpha=0.0001, max_iter=10000)</pre><b>In a Jupyter environment, please rerun this cell to show the HTML representation or trust the notebook. <br />On GitHub, the HTML representation is unable to render, please try loading this page with nbviewer.org.</b></div><div class=\"sk-container\" hidden><div class=\"sk-item\"><div class=\"sk-estimator sk-toggleable\"><input class=\"sk-toggleable__control sk-hidden--visually\" id=\"sk-estimator-id-4\" type=\"checkbox\" checked><label for=\"sk-estimator-id-4\" class=\"sk-toggleable__label sk-toggleable__label-arrow\">Lasso</label><div class=\"sk-toggleable__content\"><pre>Lasso(alpha=0.0001, max_iter=10000)</pre></div></div></div></div></div>"
      ],
      "text/plain": [
       "Lasso(alpha=0.0001, max_iter=10000)"
      ]
     },
     "execution_count": 14,
     "metadata": {},
     "output_type": "execute_result"
    }
   ],
   "source": [
    "opt_alps = las.alpha_\n",
    "opt_lass = Lasso(alpha=opt_alps, max_iter=10000)\n",
    "opt_lass.fit(xtrs,ytr)"
   ]
  },
  {
   "cell_type": "code",
   "execution_count": 15,
   "id": "d1f18ac6",
   "metadata": {},
   "outputs": [
    {
     "data": {
      "text/plain": [
       "5064.542623752226"
      ]
     },
     "execution_count": 15,
     "metadata": {},
     "output_type": "execute_result"
    }
   ],
   "source": [
    "rmse_l1 = (mean_squared_error( yts, opt_las.predict(xts)))**0.5\n",
    "rmse_l1"
   ]
  },
  {
   "cell_type": "code",
   "execution_count": 16,
   "id": "5f776cdb",
   "metadata": {},
   "outputs": [
    {
     "data": {
      "text/plain": [
       "5012.44362371269"
      ]
     },
     "execution_count": 16,
     "metadata": {},
     "output_type": "execute_result"
    }
   ],
   "source": [
    "rmse_l1s = (mean_squared_error( yts, opt_lass.predict(xtss)))**0.5\n",
    "rmse_l1s"
   ]
  },
  {
   "cell_type": "code",
   "execution_count": 17,
   "id": "9a67ee6f",
   "metadata": {},
   "outputs": [
    {
     "data": {
      "text/plain": [
       "0.636444890359882"
      ]
     },
     "execution_count": 17,
     "metadata": {},
     "output_type": "execute_result"
    }
   ],
   "source": [
    "r2_score(yts,opt_las.predict(xts))"
   ]
  },
  {
   "cell_type": "code",
   "execution_count": 18,
   "id": "d06276ab",
   "metadata": {},
   "outputs": [
    {
     "data": {
      "text/plain": [
       "0.643886208037052"
      ]
     },
     "execution_count": 18,
     "metadata": {},
     "output_type": "execute_result"
    }
   ],
   "source": [
    "r2_score(yts,opt_lass.predict(xtss))"
   ]
  },
  {
   "cell_type": "markdown",
   "id": "3effe6e8",
   "metadata": {},
   "source": [
    "## L2"
   ]
  },
  {
   "cell_type": "code",
   "execution_count": 19,
   "id": "0cc02879",
   "metadata": {},
   "outputs": [
    {
     "name": "stderr",
     "output_type": "stream",
     "text": [
      "C:\\Users\\DELL\\AppData\\Roaming\\Python\\Python311\\site-packages\\sklearn\\linear_model\\_ridge.py:216: LinAlgWarning: Ill-conditioned matrix (rcond=1.05458e-16): result may not be accurate.\n",
      "  return linalg.solve(A, Xy, assume_a=\"pos\", overwrite_a=True).T\n"
     ]
    },
    {
     "data": {
      "text/html": [
       "<style>#sk-container-id-5 {color: black;background-color: white;}#sk-container-id-5 pre{padding: 0;}#sk-container-id-5 div.sk-toggleable {background-color: white;}#sk-container-id-5 label.sk-toggleable__label {cursor: pointer;display: block;width: 100%;margin-bottom: 0;padding: 0.3em;box-sizing: border-box;text-align: center;}#sk-container-id-5 label.sk-toggleable__label-arrow:before {content: \"▸\";float: left;margin-right: 0.25em;color: #696969;}#sk-container-id-5 label.sk-toggleable__label-arrow:hover:before {color: black;}#sk-container-id-5 div.sk-estimator:hover label.sk-toggleable__label-arrow:before {color: black;}#sk-container-id-5 div.sk-toggleable__content {max-height: 0;max-width: 0;overflow: hidden;text-align: left;background-color: #f0f8ff;}#sk-container-id-5 div.sk-toggleable__content pre {margin: 0.2em;color: black;border-radius: 0.25em;background-color: #f0f8ff;}#sk-container-id-5 input.sk-toggleable__control:checked~div.sk-toggleable__content {max-height: 200px;max-width: 100%;overflow: auto;}#sk-container-id-5 input.sk-toggleable__control:checked~label.sk-toggleable__label-arrow:before {content: \"▾\";}#sk-container-id-5 div.sk-estimator input.sk-toggleable__control:checked~label.sk-toggleable__label {background-color: #d4ebff;}#sk-container-id-5 div.sk-label input.sk-toggleable__control:checked~label.sk-toggleable__label {background-color: #d4ebff;}#sk-container-id-5 input.sk-hidden--visually {border: 0;clip: rect(1px 1px 1px 1px);clip: rect(1px, 1px, 1px, 1px);height: 1px;margin: -1px;overflow: hidden;padding: 0;position: absolute;width: 1px;}#sk-container-id-5 div.sk-estimator {font-family: monospace;background-color: #f0f8ff;border: 1px dotted black;border-radius: 0.25em;box-sizing: border-box;margin-bottom: 0.5em;}#sk-container-id-5 div.sk-estimator:hover {background-color: #d4ebff;}#sk-container-id-5 div.sk-parallel-item::after {content: \"\";width: 100%;border-bottom: 1px solid gray;flex-grow: 1;}#sk-container-id-5 div.sk-label:hover label.sk-toggleable__label {background-color: #d4ebff;}#sk-container-id-5 div.sk-serial::before {content: \"\";position: absolute;border-left: 1px solid gray;box-sizing: border-box;top: 0;bottom: 0;left: 50%;z-index: 0;}#sk-container-id-5 div.sk-serial {display: flex;flex-direction: column;align-items: center;background-color: white;padding-right: 0.2em;padding-left: 0.2em;position: relative;}#sk-container-id-5 div.sk-item {position: relative;z-index: 1;}#sk-container-id-5 div.sk-parallel {display: flex;align-items: stretch;justify-content: center;background-color: white;position: relative;}#sk-container-id-5 div.sk-item::before, #sk-container-id-5 div.sk-parallel-item::before {content: \"\";position: absolute;border-left: 1px solid gray;box-sizing: border-box;top: 0;bottom: 0;left: 50%;z-index: -1;}#sk-container-id-5 div.sk-parallel-item {display: flex;flex-direction: column;z-index: 1;position: relative;background-color: white;}#sk-container-id-5 div.sk-parallel-item:first-child::after {align-self: flex-end;width: 50%;}#sk-container-id-5 div.sk-parallel-item:last-child::after {align-self: flex-start;width: 50%;}#sk-container-id-5 div.sk-parallel-item:only-child::after {width: 0;}#sk-container-id-5 div.sk-dashed-wrapped {border: 1px dashed gray;margin: 0 0.4em 0.5em 0.4em;box-sizing: border-box;padding-bottom: 0.4em;background-color: white;}#sk-container-id-5 div.sk-label label {font-family: monospace;font-weight: bold;display: inline-block;line-height: 1.2em;}#sk-container-id-5 div.sk-label-container {text-align: center;}#sk-container-id-5 div.sk-container {/* jupyter's `normalize.less` sets `[hidden] { display: none; }` but bootstrap.min.css set `[hidden] { display: none !important; }` so we also need the `!important` here to be able to override the default hidden behavior on the sphinx rendered scikit-learn.org. See: https://github.com/scikit-learn/scikit-learn/issues/21755 */display: inline-block !important;position: relative;}#sk-container-id-5 div.sk-text-repr-fallback {display: none;}</style><div id=\"sk-container-id-5\" class=\"sk-top-container\"><div class=\"sk-text-repr-fallback\"><pre>RidgeCV(alphas=array([1.00000000e-04, 1.20450354e-04, 1.45082878e-04, 1.74752840e-04,\n",
       "       2.10490414e-04, 2.53536449e-04, 3.05385551e-04, 3.67837977e-04,\n",
       "       4.43062146e-04, 5.33669923e-04, 6.42807312e-04, 7.74263683e-04,\n",
       "       9.32603347e-04, 1.12332403e-03, 1.35304777e-03, 1.62975083e-03,\n",
       "       1.96304065e-03, 2.36448941e-03, 2.84803587e-03, 3.43046929e-03,\n",
       "       4.13201240e-03, 4.97702356e-0...\n",
       "       1.38488637e+02, 1.66810054e+02, 2.00923300e+02, 2.42012826e+02,\n",
       "       2.91505306e+02, 3.51119173e+02, 4.22924287e+02, 5.09413801e+02,\n",
       "       6.13590727e+02, 7.39072203e+02, 8.90215085e+02, 1.07226722e+03,\n",
       "       1.29154967e+03, 1.55567614e+03, 1.87381742e+03, 2.25701972e+03,\n",
       "       2.71858824e+03, 3.27454916e+03, 3.94420606e+03, 4.75081016e+03,\n",
       "       5.72236766e+03, 6.89261210e+03, 8.30217568e+03, 1.00000000e+04]),\n",
       "        cv=5)</pre><b>In a Jupyter environment, please rerun this cell to show the HTML representation or trust the notebook. <br />On GitHub, the HTML representation is unable to render, please try loading this page with nbviewer.org.</b></div><div class=\"sk-container\" hidden><div class=\"sk-item\"><div class=\"sk-estimator sk-toggleable\"><input class=\"sk-toggleable__control sk-hidden--visually\" id=\"sk-estimator-id-5\" type=\"checkbox\" checked><label for=\"sk-estimator-id-5\" class=\"sk-toggleable__label sk-toggleable__label-arrow\">RidgeCV</label><div class=\"sk-toggleable__content\"><pre>RidgeCV(alphas=array([1.00000000e-04, 1.20450354e-04, 1.45082878e-04, 1.74752840e-04,\n",
       "       2.10490414e-04, 2.53536449e-04, 3.05385551e-04, 3.67837977e-04,\n",
       "       4.43062146e-04, 5.33669923e-04, 6.42807312e-04, 7.74263683e-04,\n",
       "       9.32603347e-04, 1.12332403e-03, 1.35304777e-03, 1.62975083e-03,\n",
       "       1.96304065e-03, 2.36448941e-03, 2.84803587e-03, 3.43046929e-03,\n",
       "       4.13201240e-03, 4.97702356e-0...\n",
       "       1.38488637e+02, 1.66810054e+02, 2.00923300e+02, 2.42012826e+02,\n",
       "       2.91505306e+02, 3.51119173e+02, 4.22924287e+02, 5.09413801e+02,\n",
       "       6.13590727e+02, 7.39072203e+02, 8.90215085e+02, 1.07226722e+03,\n",
       "       1.29154967e+03, 1.55567614e+03, 1.87381742e+03, 2.25701972e+03,\n",
       "       2.71858824e+03, 3.27454916e+03, 3.94420606e+03, 4.75081016e+03,\n",
       "       5.72236766e+03, 6.89261210e+03, 8.30217568e+03, 1.00000000e+04]),\n",
       "        cv=5)</pre></div></div></div></div></div>"
      ],
      "text/plain": [
       "RidgeCV(alphas=array([1.00000000e-04, 1.20450354e-04, 1.45082878e-04, 1.74752840e-04,\n",
       "       2.10490414e-04, 2.53536449e-04, 3.05385551e-04, 3.67837977e-04,\n",
       "       4.43062146e-04, 5.33669923e-04, 6.42807312e-04, 7.74263683e-04,\n",
       "       9.32603347e-04, 1.12332403e-03, 1.35304777e-03, 1.62975083e-03,\n",
       "       1.96304065e-03, 2.36448941e-03, 2.84803587e-03, 3.43046929e-03,\n",
       "       4.13201240e-03, 4.97702356e-0...\n",
       "       1.38488637e+02, 1.66810054e+02, 2.00923300e+02, 2.42012826e+02,\n",
       "       2.91505306e+02, 3.51119173e+02, 4.22924287e+02, 5.09413801e+02,\n",
       "       6.13590727e+02, 7.39072203e+02, 8.90215085e+02, 1.07226722e+03,\n",
       "       1.29154967e+03, 1.55567614e+03, 1.87381742e+03, 2.25701972e+03,\n",
       "       2.71858824e+03, 3.27454916e+03, 3.94420606e+03, 4.75081016e+03,\n",
       "       5.72236766e+03, 6.89261210e+03, 8.30217568e+03, 1.00000000e+04]),\n",
       "        cv=5)"
      ]
     },
     "execution_count": 19,
     "metadata": {},
     "output_type": "execute_result"
    }
   ],
   "source": [
    "Alp = np.logspace(-4,4,100)\n",
    "rid = RidgeCV(alphas=Alp, cv=5)\n",
    "rid.fit(xtr,ytr)"
   ]
  },
  {
   "cell_type": "code",
   "execution_count": 20,
   "id": "18ec78a3",
   "metadata": {},
   "outputs": [
    {
     "name": "stderr",
     "output_type": "stream",
     "text": [
      "C:\\Users\\DELL\\AppData\\Roaming\\Python\\Python311\\site-packages\\sklearn\\linear_model\\_ridge.py:216: LinAlgWarning: Ill-conditioned matrix (rcond=1.05458e-16): result may not be accurate.\n",
      "  return linalg.solve(A, Xy, assume_a=\"pos\", overwrite_a=True).T\n"
     ]
    },
    {
     "data": {
      "text/html": [
       "<style>#sk-container-id-6 {color: black;background-color: white;}#sk-container-id-6 pre{padding: 0;}#sk-container-id-6 div.sk-toggleable {background-color: white;}#sk-container-id-6 label.sk-toggleable__label {cursor: pointer;display: block;width: 100%;margin-bottom: 0;padding: 0.3em;box-sizing: border-box;text-align: center;}#sk-container-id-6 label.sk-toggleable__label-arrow:before {content: \"▸\";float: left;margin-right: 0.25em;color: #696969;}#sk-container-id-6 label.sk-toggleable__label-arrow:hover:before {color: black;}#sk-container-id-6 div.sk-estimator:hover label.sk-toggleable__label-arrow:before {color: black;}#sk-container-id-6 div.sk-toggleable__content {max-height: 0;max-width: 0;overflow: hidden;text-align: left;background-color: #f0f8ff;}#sk-container-id-6 div.sk-toggleable__content pre {margin: 0.2em;color: black;border-radius: 0.25em;background-color: #f0f8ff;}#sk-container-id-6 input.sk-toggleable__control:checked~div.sk-toggleable__content {max-height: 200px;max-width: 100%;overflow: auto;}#sk-container-id-6 input.sk-toggleable__control:checked~label.sk-toggleable__label-arrow:before {content: \"▾\";}#sk-container-id-6 div.sk-estimator input.sk-toggleable__control:checked~label.sk-toggleable__label {background-color: #d4ebff;}#sk-container-id-6 div.sk-label input.sk-toggleable__control:checked~label.sk-toggleable__label {background-color: #d4ebff;}#sk-container-id-6 input.sk-hidden--visually {border: 0;clip: rect(1px 1px 1px 1px);clip: rect(1px, 1px, 1px, 1px);height: 1px;margin: -1px;overflow: hidden;padding: 0;position: absolute;width: 1px;}#sk-container-id-6 div.sk-estimator {font-family: monospace;background-color: #f0f8ff;border: 1px dotted black;border-radius: 0.25em;box-sizing: border-box;margin-bottom: 0.5em;}#sk-container-id-6 div.sk-estimator:hover {background-color: #d4ebff;}#sk-container-id-6 div.sk-parallel-item::after {content: \"\";width: 100%;border-bottom: 1px solid gray;flex-grow: 1;}#sk-container-id-6 div.sk-label:hover label.sk-toggleable__label {background-color: #d4ebff;}#sk-container-id-6 div.sk-serial::before {content: \"\";position: absolute;border-left: 1px solid gray;box-sizing: border-box;top: 0;bottom: 0;left: 50%;z-index: 0;}#sk-container-id-6 div.sk-serial {display: flex;flex-direction: column;align-items: center;background-color: white;padding-right: 0.2em;padding-left: 0.2em;position: relative;}#sk-container-id-6 div.sk-item {position: relative;z-index: 1;}#sk-container-id-6 div.sk-parallel {display: flex;align-items: stretch;justify-content: center;background-color: white;position: relative;}#sk-container-id-6 div.sk-item::before, #sk-container-id-6 div.sk-parallel-item::before {content: \"\";position: absolute;border-left: 1px solid gray;box-sizing: border-box;top: 0;bottom: 0;left: 50%;z-index: -1;}#sk-container-id-6 div.sk-parallel-item {display: flex;flex-direction: column;z-index: 1;position: relative;background-color: white;}#sk-container-id-6 div.sk-parallel-item:first-child::after {align-self: flex-end;width: 50%;}#sk-container-id-6 div.sk-parallel-item:last-child::after {align-self: flex-start;width: 50%;}#sk-container-id-6 div.sk-parallel-item:only-child::after {width: 0;}#sk-container-id-6 div.sk-dashed-wrapped {border: 1px dashed gray;margin: 0 0.4em 0.5em 0.4em;box-sizing: border-box;padding-bottom: 0.4em;background-color: white;}#sk-container-id-6 div.sk-label label {font-family: monospace;font-weight: bold;display: inline-block;line-height: 1.2em;}#sk-container-id-6 div.sk-label-container {text-align: center;}#sk-container-id-6 div.sk-container {/* jupyter's `normalize.less` sets `[hidden] { display: none; }` but bootstrap.min.css set `[hidden] { display: none !important; }` so we also need the `!important` here to be able to override the default hidden behavior on the sphinx rendered scikit-learn.org. See: https://github.com/scikit-learn/scikit-learn/issues/21755 */display: inline-block !important;position: relative;}#sk-container-id-6 div.sk-text-repr-fallback {display: none;}</style><div id=\"sk-container-id-6\" class=\"sk-top-container\"><div class=\"sk-text-repr-fallback\"><pre>Ridge(alpha=0.0001, max_iter=10000)</pre><b>In a Jupyter environment, please rerun this cell to show the HTML representation or trust the notebook. <br />On GitHub, the HTML representation is unable to render, please try loading this page with nbviewer.org.</b></div><div class=\"sk-container\" hidden><div class=\"sk-item\"><div class=\"sk-estimator sk-toggleable\"><input class=\"sk-toggleable__control sk-hidden--visually\" id=\"sk-estimator-id-6\" type=\"checkbox\" checked><label for=\"sk-estimator-id-6\" class=\"sk-toggleable__label sk-toggleable__label-arrow\">Ridge</label><div class=\"sk-toggleable__content\"><pre>Ridge(alpha=0.0001, max_iter=10000)</pre></div></div></div></div></div>"
      ],
      "text/plain": [
       "Ridge(alpha=0.0001, max_iter=10000)"
      ]
     },
     "execution_count": 20,
     "metadata": {},
     "output_type": "execute_result"
    }
   ],
   "source": [
    "Opt_Alp = rid.alpha_\n",
    "Opt_rid = Ridge(alpha=Opt_Alp, max_iter=10000)\n",
    "Opt_rid.fit(xtr,ytr)"
   ]
  },
  {
   "cell_type": "code",
   "execution_count": 21,
   "id": "635d4736",
   "metadata": {},
   "outputs": [
    {
     "data": {
      "text/html": [
       "<style>#sk-container-id-7 {color: black;background-color: white;}#sk-container-id-7 pre{padding: 0;}#sk-container-id-7 div.sk-toggleable {background-color: white;}#sk-container-id-7 label.sk-toggleable__label {cursor: pointer;display: block;width: 100%;margin-bottom: 0;padding: 0.3em;box-sizing: border-box;text-align: center;}#sk-container-id-7 label.sk-toggleable__label-arrow:before {content: \"▸\";float: left;margin-right: 0.25em;color: #696969;}#sk-container-id-7 label.sk-toggleable__label-arrow:hover:before {color: black;}#sk-container-id-7 div.sk-estimator:hover label.sk-toggleable__label-arrow:before {color: black;}#sk-container-id-7 div.sk-toggleable__content {max-height: 0;max-width: 0;overflow: hidden;text-align: left;background-color: #f0f8ff;}#sk-container-id-7 div.sk-toggleable__content pre {margin: 0.2em;color: black;border-radius: 0.25em;background-color: #f0f8ff;}#sk-container-id-7 input.sk-toggleable__control:checked~div.sk-toggleable__content {max-height: 200px;max-width: 100%;overflow: auto;}#sk-container-id-7 input.sk-toggleable__control:checked~label.sk-toggleable__label-arrow:before {content: \"▾\";}#sk-container-id-7 div.sk-estimator input.sk-toggleable__control:checked~label.sk-toggleable__label {background-color: #d4ebff;}#sk-container-id-7 div.sk-label input.sk-toggleable__control:checked~label.sk-toggleable__label {background-color: #d4ebff;}#sk-container-id-7 input.sk-hidden--visually {border: 0;clip: rect(1px 1px 1px 1px);clip: rect(1px, 1px, 1px, 1px);height: 1px;margin: -1px;overflow: hidden;padding: 0;position: absolute;width: 1px;}#sk-container-id-7 div.sk-estimator {font-family: monospace;background-color: #f0f8ff;border: 1px dotted black;border-radius: 0.25em;box-sizing: border-box;margin-bottom: 0.5em;}#sk-container-id-7 div.sk-estimator:hover {background-color: #d4ebff;}#sk-container-id-7 div.sk-parallel-item::after {content: \"\";width: 100%;border-bottom: 1px solid gray;flex-grow: 1;}#sk-container-id-7 div.sk-label:hover label.sk-toggleable__label {background-color: #d4ebff;}#sk-container-id-7 div.sk-serial::before {content: \"\";position: absolute;border-left: 1px solid gray;box-sizing: border-box;top: 0;bottom: 0;left: 50%;z-index: 0;}#sk-container-id-7 div.sk-serial {display: flex;flex-direction: column;align-items: center;background-color: white;padding-right: 0.2em;padding-left: 0.2em;position: relative;}#sk-container-id-7 div.sk-item {position: relative;z-index: 1;}#sk-container-id-7 div.sk-parallel {display: flex;align-items: stretch;justify-content: center;background-color: white;position: relative;}#sk-container-id-7 div.sk-item::before, #sk-container-id-7 div.sk-parallel-item::before {content: \"\";position: absolute;border-left: 1px solid gray;box-sizing: border-box;top: 0;bottom: 0;left: 50%;z-index: -1;}#sk-container-id-7 div.sk-parallel-item {display: flex;flex-direction: column;z-index: 1;position: relative;background-color: white;}#sk-container-id-7 div.sk-parallel-item:first-child::after {align-self: flex-end;width: 50%;}#sk-container-id-7 div.sk-parallel-item:last-child::after {align-self: flex-start;width: 50%;}#sk-container-id-7 div.sk-parallel-item:only-child::after {width: 0;}#sk-container-id-7 div.sk-dashed-wrapped {border: 1px dashed gray;margin: 0 0.4em 0.5em 0.4em;box-sizing: border-box;padding-bottom: 0.4em;background-color: white;}#sk-container-id-7 div.sk-label label {font-family: monospace;font-weight: bold;display: inline-block;line-height: 1.2em;}#sk-container-id-7 div.sk-label-container {text-align: center;}#sk-container-id-7 div.sk-container {/* jupyter's `normalize.less` sets `[hidden] { display: none; }` but bootstrap.min.css set `[hidden] { display: none !important; }` so we also need the `!important` here to be able to override the default hidden behavior on the sphinx rendered scikit-learn.org. See: https://github.com/scikit-learn/scikit-learn/issues/21755 */display: inline-block !important;position: relative;}#sk-container-id-7 div.sk-text-repr-fallback {display: none;}</style><div id=\"sk-container-id-7\" class=\"sk-top-container\"><div class=\"sk-text-repr-fallback\"><pre>RidgeCV(alphas=array([1.00000000e-04, 1.20450354e-04, 1.45082878e-04, 1.74752840e-04,\n",
       "       2.10490414e-04, 2.53536449e-04, 3.05385551e-04, 3.67837977e-04,\n",
       "       4.43062146e-04, 5.33669923e-04, 6.42807312e-04, 7.74263683e-04,\n",
       "       9.32603347e-04, 1.12332403e-03, 1.35304777e-03, 1.62975083e-03,\n",
       "       1.96304065e-03, 2.36448941e-03, 2.84803587e-03, 3.43046929e-03,\n",
       "       4.13201240e-03, 4.97702356e-0...\n",
       "       1.38488637e+02, 1.66810054e+02, 2.00923300e+02, 2.42012826e+02,\n",
       "       2.91505306e+02, 3.51119173e+02, 4.22924287e+02, 5.09413801e+02,\n",
       "       6.13590727e+02, 7.39072203e+02, 8.90215085e+02, 1.07226722e+03,\n",
       "       1.29154967e+03, 1.55567614e+03, 1.87381742e+03, 2.25701972e+03,\n",
       "       2.71858824e+03, 3.27454916e+03, 3.94420606e+03, 4.75081016e+03,\n",
       "       5.72236766e+03, 6.89261210e+03, 8.30217568e+03, 1.00000000e+04]),\n",
       "        cv=5)</pre><b>In a Jupyter environment, please rerun this cell to show the HTML representation or trust the notebook. <br />On GitHub, the HTML representation is unable to render, please try loading this page with nbviewer.org.</b></div><div class=\"sk-container\" hidden><div class=\"sk-item\"><div class=\"sk-estimator sk-toggleable\"><input class=\"sk-toggleable__control sk-hidden--visually\" id=\"sk-estimator-id-7\" type=\"checkbox\" checked><label for=\"sk-estimator-id-7\" class=\"sk-toggleable__label sk-toggleable__label-arrow\">RidgeCV</label><div class=\"sk-toggleable__content\"><pre>RidgeCV(alphas=array([1.00000000e-04, 1.20450354e-04, 1.45082878e-04, 1.74752840e-04,\n",
       "       2.10490414e-04, 2.53536449e-04, 3.05385551e-04, 3.67837977e-04,\n",
       "       4.43062146e-04, 5.33669923e-04, 6.42807312e-04, 7.74263683e-04,\n",
       "       9.32603347e-04, 1.12332403e-03, 1.35304777e-03, 1.62975083e-03,\n",
       "       1.96304065e-03, 2.36448941e-03, 2.84803587e-03, 3.43046929e-03,\n",
       "       4.13201240e-03, 4.97702356e-0...\n",
       "       1.38488637e+02, 1.66810054e+02, 2.00923300e+02, 2.42012826e+02,\n",
       "       2.91505306e+02, 3.51119173e+02, 4.22924287e+02, 5.09413801e+02,\n",
       "       6.13590727e+02, 7.39072203e+02, 8.90215085e+02, 1.07226722e+03,\n",
       "       1.29154967e+03, 1.55567614e+03, 1.87381742e+03, 2.25701972e+03,\n",
       "       2.71858824e+03, 3.27454916e+03, 3.94420606e+03, 4.75081016e+03,\n",
       "       5.72236766e+03, 6.89261210e+03, 8.30217568e+03, 1.00000000e+04]),\n",
       "        cv=5)</pre></div></div></div></div></div>"
      ],
      "text/plain": [
       "RidgeCV(alphas=array([1.00000000e-04, 1.20450354e-04, 1.45082878e-04, 1.74752840e-04,\n",
       "       2.10490414e-04, 2.53536449e-04, 3.05385551e-04, 3.67837977e-04,\n",
       "       4.43062146e-04, 5.33669923e-04, 6.42807312e-04, 7.74263683e-04,\n",
       "       9.32603347e-04, 1.12332403e-03, 1.35304777e-03, 1.62975083e-03,\n",
       "       1.96304065e-03, 2.36448941e-03, 2.84803587e-03, 3.43046929e-03,\n",
       "       4.13201240e-03, 4.97702356e-0...\n",
       "       1.38488637e+02, 1.66810054e+02, 2.00923300e+02, 2.42012826e+02,\n",
       "       2.91505306e+02, 3.51119173e+02, 4.22924287e+02, 5.09413801e+02,\n",
       "       6.13590727e+02, 7.39072203e+02, 8.90215085e+02, 1.07226722e+03,\n",
       "       1.29154967e+03, 1.55567614e+03, 1.87381742e+03, 2.25701972e+03,\n",
       "       2.71858824e+03, 3.27454916e+03, 3.94420606e+03, 4.75081016e+03,\n",
       "       5.72236766e+03, 6.89261210e+03, 8.30217568e+03, 1.00000000e+04]),\n",
       "        cv=5)"
      ]
     },
     "execution_count": 21,
     "metadata": {},
     "output_type": "execute_result"
    }
   ],
   "source": [
    "rids = RidgeCV(alphas=Alp, cv=5)\n",
    "rids.fit(xtrs,ytr)"
   ]
  },
  {
   "cell_type": "code",
   "execution_count": 22,
   "id": "3af8fca5",
   "metadata": {},
   "outputs": [
    {
     "data": {
      "text/html": [
       "<style>#sk-container-id-8 {color: black;background-color: white;}#sk-container-id-8 pre{padding: 0;}#sk-container-id-8 div.sk-toggleable {background-color: white;}#sk-container-id-8 label.sk-toggleable__label {cursor: pointer;display: block;width: 100%;margin-bottom: 0;padding: 0.3em;box-sizing: border-box;text-align: center;}#sk-container-id-8 label.sk-toggleable__label-arrow:before {content: \"▸\";float: left;margin-right: 0.25em;color: #696969;}#sk-container-id-8 label.sk-toggleable__label-arrow:hover:before {color: black;}#sk-container-id-8 div.sk-estimator:hover label.sk-toggleable__label-arrow:before {color: black;}#sk-container-id-8 div.sk-toggleable__content {max-height: 0;max-width: 0;overflow: hidden;text-align: left;background-color: #f0f8ff;}#sk-container-id-8 div.sk-toggleable__content pre {margin: 0.2em;color: black;border-radius: 0.25em;background-color: #f0f8ff;}#sk-container-id-8 input.sk-toggleable__control:checked~div.sk-toggleable__content {max-height: 200px;max-width: 100%;overflow: auto;}#sk-container-id-8 input.sk-toggleable__control:checked~label.sk-toggleable__label-arrow:before {content: \"▾\";}#sk-container-id-8 div.sk-estimator input.sk-toggleable__control:checked~label.sk-toggleable__label {background-color: #d4ebff;}#sk-container-id-8 div.sk-label input.sk-toggleable__control:checked~label.sk-toggleable__label {background-color: #d4ebff;}#sk-container-id-8 input.sk-hidden--visually {border: 0;clip: rect(1px 1px 1px 1px);clip: rect(1px, 1px, 1px, 1px);height: 1px;margin: -1px;overflow: hidden;padding: 0;position: absolute;width: 1px;}#sk-container-id-8 div.sk-estimator {font-family: monospace;background-color: #f0f8ff;border: 1px dotted black;border-radius: 0.25em;box-sizing: border-box;margin-bottom: 0.5em;}#sk-container-id-8 div.sk-estimator:hover {background-color: #d4ebff;}#sk-container-id-8 div.sk-parallel-item::after {content: \"\";width: 100%;border-bottom: 1px solid gray;flex-grow: 1;}#sk-container-id-8 div.sk-label:hover label.sk-toggleable__label {background-color: #d4ebff;}#sk-container-id-8 div.sk-serial::before {content: \"\";position: absolute;border-left: 1px solid gray;box-sizing: border-box;top: 0;bottom: 0;left: 50%;z-index: 0;}#sk-container-id-8 div.sk-serial {display: flex;flex-direction: column;align-items: center;background-color: white;padding-right: 0.2em;padding-left: 0.2em;position: relative;}#sk-container-id-8 div.sk-item {position: relative;z-index: 1;}#sk-container-id-8 div.sk-parallel {display: flex;align-items: stretch;justify-content: center;background-color: white;position: relative;}#sk-container-id-8 div.sk-item::before, #sk-container-id-8 div.sk-parallel-item::before {content: \"\";position: absolute;border-left: 1px solid gray;box-sizing: border-box;top: 0;bottom: 0;left: 50%;z-index: -1;}#sk-container-id-8 div.sk-parallel-item {display: flex;flex-direction: column;z-index: 1;position: relative;background-color: white;}#sk-container-id-8 div.sk-parallel-item:first-child::after {align-self: flex-end;width: 50%;}#sk-container-id-8 div.sk-parallel-item:last-child::after {align-self: flex-start;width: 50%;}#sk-container-id-8 div.sk-parallel-item:only-child::after {width: 0;}#sk-container-id-8 div.sk-dashed-wrapped {border: 1px dashed gray;margin: 0 0.4em 0.5em 0.4em;box-sizing: border-box;padding-bottom: 0.4em;background-color: white;}#sk-container-id-8 div.sk-label label {font-family: monospace;font-weight: bold;display: inline-block;line-height: 1.2em;}#sk-container-id-8 div.sk-label-container {text-align: center;}#sk-container-id-8 div.sk-container {/* jupyter's `normalize.less` sets `[hidden] { display: none; }` but bootstrap.min.css set `[hidden] { display: none !important; }` so we also need the `!important` here to be able to override the default hidden behavior on the sphinx rendered scikit-learn.org. See: https://github.com/scikit-learn/scikit-learn/issues/21755 */display: inline-block !important;position: relative;}#sk-container-id-8 div.sk-text-repr-fallback {display: none;}</style><div id=\"sk-container-id-8\" class=\"sk-top-container\"><div class=\"sk-text-repr-fallback\"><pre>Ridge(alpha=0.0001, max_iter=10000)</pre><b>In a Jupyter environment, please rerun this cell to show the HTML representation or trust the notebook. <br />On GitHub, the HTML representation is unable to render, please try loading this page with nbviewer.org.</b></div><div class=\"sk-container\" hidden><div class=\"sk-item\"><div class=\"sk-estimator sk-toggleable\"><input class=\"sk-toggleable__control sk-hidden--visually\" id=\"sk-estimator-id-8\" type=\"checkbox\" checked><label for=\"sk-estimator-id-8\" class=\"sk-toggleable__label sk-toggleable__label-arrow\">Ridge</label><div class=\"sk-toggleable__content\"><pre>Ridge(alpha=0.0001, max_iter=10000)</pre></div></div></div></div></div>"
      ],
      "text/plain": [
       "Ridge(alpha=0.0001, max_iter=10000)"
      ]
     },
     "execution_count": 22,
     "metadata": {},
     "output_type": "execute_result"
    }
   ],
   "source": [
    "Opt_Alps = rid.alpha_\n",
    "Opt_rids = Ridge(alpha=Opt_Alps, max_iter=10000)\n",
    "Opt_rids.fit(xtrs,ytr)"
   ]
  },
  {
   "cell_type": "code",
   "execution_count": 23,
   "id": "d9b6ec0a",
   "metadata": {},
   "outputs": [
    {
     "data": {
      "text/plain": [
       "array([  24.95501837,    0.        ,  557.68992076, -657.1349092 ,\n",
       "        348.08724623,  233.2698029 ,    6.28620666,  174.39043928,\n",
       "       -628.38169097, -825.12390149, 1519.37167921, 3248.82516348,\n",
       "         93.10558988,  -20.71201557, 1323.36737058,  151.16744624,\n",
       "        428.34390004,  472.81256159,  438.76299676,  108.88346822,\n",
       "        563.32281221,  137.61488835,  179.27876887,  304.86944036,\n",
       "       -101.81193953,   12.35346816,  127.62458765,    5.76061609,\n",
       "        194.10193671,   48.33767676,   11.28000167,  -34.49464942,\n",
       "        -55.15334362,  315.71119734,  -73.84573457])"
      ]
     },
     "execution_count": 23,
     "metadata": {},
     "output_type": "execute_result"
    }
   ],
   "source": [
    "opt_lass.coef_"
   ]
  },
  {
   "cell_type": "code",
   "execution_count": 24,
   "id": "fbc32ead",
   "metadata": {},
   "outputs": [
    {
     "data": {
      "text/plain": [
       "5064.542666890368"
      ]
     },
     "execution_count": 24,
     "metadata": {},
     "output_type": "execute_result"
    }
   ],
   "source": [
    "rmse_l2 = (mean_squared_error( yts, Opt_rid.predict(xts)))**0.5\n",
    "rmse_l2"
   ]
  },
  {
   "cell_type": "code",
   "execution_count": 25,
   "id": "e0d3599b",
   "metadata": {},
   "outputs": [
    {
     "data": {
      "text/plain": [
       "5012.443621995698"
      ]
     },
     "execution_count": 25,
     "metadata": {},
     "output_type": "execute_result"
    }
   ],
   "source": [
    "rmse_l2s = (mean_squared_error( yts, Opt_rids.predict(xtss)))**0.5\n",
    "rmse_l2s"
   ]
  },
  {
   "cell_type": "code",
   "execution_count": 26,
   "id": "693dd9cf",
   "metadata": {},
   "outputs": [
    {
     "data": {
      "text/plain": [
       "0.6364448841665915"
      ]
     },
     "execution_count": 26,
     "metadata": {},
     "output_type": "execute_result"
    }
   ],
   "source": [
    "r2_score(yts,Opt_rid.predict(xts))"
   ]
  },
  {
   "cell_type": "code",
   "execution_count": 27,
   "id": "85c1d3f1",
   "metadata": {},
   "outputs": [
    {
     "data": {
      "text/plain": [
       "0.6438862082810226"
      ]
     },
     "execution_count": 27,
     "metadata": {},
     "output_type": "execute_result"
    }
   ],
   "source": [
    "r2_score(yts,Opt_rids.predict(xtss))"
   ]
  },
  {
   "cell_type": "markdown",
   "id": "805573af",
   "metadata": {},
   "source": [
    "## Polynomial"
   ]
  },
  {
   "cell_type": "code",
   "execution_count": 28,
   "id": "d8a54a10",
   "metadata": {},
   "outputs": [],
   "source": [
    "p2 = PolynomialFeatures(degree=2)\n",
    "p3 = PolynomialFeatures(degree=3)"
   ]
  },
  {
   "cell_type": "markdown",
   "id": "69640ea5",
   "metadata": {},
   "source": [
    "### Poly 2"
   ]
  },
  {
   "cell_type": "markdown",
   "id": "6b944ba1",
   "metadata": {},
   "source": [
    "for i in [2,3] :\n",
    "    p(i) = PolynomialFeatures(degree=i)\n",
    "    for l in [ xtr, xtrs, xts, xtss] :\n",
    "        l(i) = p(i).fit_transform(l)\n",
    "    for m in [ xts]"
   ]
  },
  {
   "cell_type": "code",
   "execution_count": 30,
   "id": "63782024",
   "metadata": {},
   "outputs": [],
   "source": [
    "xtrp2 = p2.fit_transform(xtr)\n",
    "xtrp2s = p2.fit_transform(xtrs)\n",
    "xtsp2 = p2.fit_transform(xts)\n",
    "xtsp2s = p2.fit_transform(xts)"
   ]
  },
  {
   "cell_type": "code",
   "execution_count": 31,
   "id": "4d06286b",
   "metadata": {},
   "outputs": [
    {
     "data": {
      "text/html": [
       "<style>#sk-container-id-9 {color: black;background-color: white;}#sk-container-id-9 pre{padding: 0;}#sk-container-id-9 div.sk-toggleable {background-color: white;}#sk-container-id-9 label.sk-toggleable__label {cursor: pointer;display: block;width: 100%;margin-bottom: 0;padding: 0.3em;box-sizing: border-box;text-align: center;}#sk-container-id-9 label.sk-toggleable__label-arrow:before {content: \"▸\";float: left;margin-right: 0.25em;color: #696969;}#sk-container-id-9 label.sk-toggleable__label-arrow:hover:before {color: black;}#sk-container-id-9 div.sk-estimator:hover label.sk-toggleable__label-arrow:before {color: black;}#sk-container-id-9 div.sk-toggleable__content {max-height: 0;max-width: 0;overflow: hidden;text-align: left;background-color: #f0f8ff;}#sk-container-id-9 div.sk-toggleable__content pre {margin: 0.2em;color: black;border-radius: 0.25em;background-color: #f0f8ff;}#sk-container-id-9 input.sk-toggleable__control:checked~div.sk-toggleable__content {max-height: 200px;max-width: 100%;overflow: auto;}#sk-container-id-9 input.sk-toggleable__control:checked~label.sk-toggleable__label-arrow:before {content: \"▾\";}#sk-container-id-9 div.sk-estimator input.sk-toggleable__control:checked~label.sk-toggleable__label {background-color: #d4ebff;}#sk-container-id-9 div.sk-label input.sk-toggleable__control:checked~label.sk-toggleable__label {background-color: #d4ebff;}#sk-container-id-9 input.sk-hidden--visually {border: 0;clip: rect(1px 1px 1px 1px);clip: rect(1px, 1px, 1px, 1px);height: 1px;margin: -1px;overflow: hidden;padding: 0;position: absolute;width: 1px;}#sk-container-id-9 div.sk-estimator {font-family: monospace;background-color: #f0f8ff;border: 1px dotted black;border-radius: 0.25em;box-sizing: border-box;margin-bottom: 0.5em;}#sk-container-id-9 div.sk-estimator:hover {background-color: #d4ebff;}#sk-container-id-9 div.sk-parallel-item::after {content: \"\";width: 100%;border-bottom: 1px solid gray;flex-grow: 1;}#sk-container-id-9 div.sk-label:hover label.sk-toggleable__label {background-color: #d4ebff;}#sk-container-id-9 div.sk-serial::before {content: \"\";position: absolute;border-left: 1px solid gray;box-sizing: border-box;top: 0;bottom: 0;left: 50%;z-index: 0;}#sk-container-id-9 div.sk-serial {display: flex;flex-direction: column;align-items: center;background-color: white;padding-right: 0.2em;padding-left: 0.2em;position: relative;}#sk-container-id-9 div.sk-item {position: relative;z-index: 1;}#sk-container-id-9 div.sk-parallel {display: flex;align-items: stretch;justify-content: center;background-color: white;position: relative;}#sk-container-id-9 div.sk-item::before, #sk-container-id-9 div.sk-parallel-item::before {content: \"\";position: absolute;border-left: 1px solid gray;box-sizing: border-box;top: 0;bottom: 0;left: 50%;z-index: -1;}#sk-container-id-9 div.sk-parallel-item {display: flex;flex-direction: column;z-index: 1;position: relative;background-color: white;}#sk-container-id-9 div.sk-parallel-item:first-child::after {align-self: flex-end;width: 50%;}#sk-container-id-9 div.sk-parallel-item:last-child::after {align-self: flex-start;width: 50%;}#sk-container-id-9 div.sk-parallel-item:only-child::after {width: 0;}#sk-container-id-9 div.sk-dashed-wrapped {border: 1px dashed gray;margin: 0 0.4em 0.5em 0.4em;box-sizing: border-box;padding-bottom: 0.4em;background-color: white;}#sk-container-id-9 div.sk-label label {font-family: monospace;font-weight: bold;display: inline-block;line-height: 1.2em;}#sk-container-id-9 div.sk-label-container {text-align: center;}#sk-container-id-9 div.sk-container {/* jupyter's `normalize.less` sets `[hidden] { display: none; }` but bootstrap.min.css set `[hidden] { display: none !important; }` so we also need the `!important` here to be able to override the default hidden behavior on the sphinx rendered scikit-learn.org. See: https://github.com/scikit-learn/scikit-learn/issues/21755 */display: inline-block !important;position: relative;}#sk-container-id-9 div.sk-text-repr-fallback {display: none;}</style><div id=\"sk-container-id-9\" class=\"sk-top-container\"><div class=\"sk-text-repr-fallback\"><pre>LinearRegression()</pre><b>In a Jupyter environment, please rerun this cell to show the HTML representation or trust the notebook. <br />On GitHub, the HTML representation is unable to render, please try loading this page with nbviewer.org.</b></div><div class=\"sk-container\" hidden><div class=\"sk-item\"><div class=\"sk-estimator sk-toggleable\"><input class=\"sk-toggleable__control sk-hidden--visually\" id=\"sk-estimator-id-9\" type=\"checkbox\" checked><label for=\"sk-estimator-id-9\" class=\"sk-toggleable__label sk-toggleable__label-arrow\">LinearRegression</label><div class=\"sk-toggleable__content\"><pre>LinearRegression()</pre></div></div></div></div></div>"
      ],
      "text/plain": [
       "LinearRegression()"
      ]
     },
     "execution_count": 31,
     "metadata": {},
     "output_type": "execute_result"
    }
   ],
   "source": [
    "Poly2 = LinearRegression()\n",
    "Poly2.fit(xtrp2,ytr)"
   ]
  },
  {
   "cell_type": "code",
   "execution_count": 32,
   "id": "251c0437",
   "metadata": {},
   "outputs": [
    {
     "data": {
      "text/plain": [
       "5096.013598894361"
      ]
     },
     "execution_count": 32,
     "metadata": {},
     "output_type": "execute_result"
    }
   ],
   "source": [
    "rmsep2 = (mean_squared_error( yts, Poly2.predict(xtsp2)))**0.5\n",
    "rmsep2"
   ]
  },
  {
   "cell_type": "code",
   "execution_count": 33,
   "id": "391c39cd",
   "metadata": {},
   "outputs": [
    {
     "data": {
      "text/html": [
       "<style>#sk-container-id-10 {color: black;background-color: white;}#sk-container-id-10 pre{padding: 0;}#sk-container-id-10 div.sk-toggleable {background-color: white;}#sk-container-id-10 label.sk-toggleable__label {cursor: pointer;display: block;width: 100%;margin-bottom: 0;padding: 0.3em;box-sizing: border-box;text-align: center;}#sk-container-id-10 label.sk-toggleable__label-arrow:before {content: \"▸\";float: left;margin-right: 0.25em;color: #696969;}#sk-container-id-10 label.sk-toggleable__label-arrow:hover:before {color: black;}#sk-container-id-10 div.sk-estimator:hover label.sk-toggleable__label-arrow:before {color: black;}#sk-container-id-10 div.sk-toggleable__content {max-height: 0;max-width: 0;overflow: hidden;text-align: left;background-color: #f0f8ff;}#sk-container-id-10 div.sk-toggleable__content pre {margin: 0.2em;color: black;border-radius: 0.25em;background-color: #f0f8ff;}#sk-container-id-10 input.sk-toggleable__control:checked~div.sk-toggleable__content {max-height: 200px;max-width: 100%;overflow: auto;}#sk-container-id-10 input.sk-toggleable__control:checked~label.sk-toggleable__label-arrow:before {content: \"▾\";}#sk-container-id-10 div.sk-estimator input.sk-toggleable__control:checked~label.sk-toggleable__label {background-color: #d4ebff;}#sk-container-id-10 div.sk-label input.sk-toggleable__control:checked~label.sk-toggleable__label {background-color: #d4ebff;}#sk-container-id-10 input.sk-hidden--visually {border: 0;clip: rect(1px 1px 1px 1px);clip: rect(1px, 1px, 1px, 1px);height: 1px;margin: -1px;overflow: hidden;padding: 0;position: absolute;width: 1px;}#sk-container-id-10 div.sk-estimator {font-family: monospace;background-color: #f0f8ff;border: 1px dotted black;border-radius: 0.25em;box-sizing: border-box;margin-bottom: 0.5em;}#sk-container-id-10 div.sk-estimator:hover {background-color: #d4ebff;}#sk-container-id-10 div.sk-parallel-item::after {content: \"\";width: 100%;border-bottom: 1px solid gray;flex-grow: 1;}#sk-container-id-10 div.sk-label:hover label.sk-toggleable__label {background-color: #d4ebff;}#sk-container-id-10 div.sk-serial::before {content: \"\";position: absolute;border-left: 1px solid gray;box-sizing: border-box;top: 0;bottom: 0;left: 50%;z-index: 0;}#sk-container-id-10 div.sk-serial {display: flex;flex-direction: column;align-items: center;background-color: white;padding-right: 0.2em;padding-left: 0.2em;position: relative;}#sk-container-id-10 div.sk-item {position: relative;z-index: 1;}#sk-container-id-10 div.sk-parallel {display: flex;align-items: stretch;justify-content: center;background-color: white;position: relative;}#sk-container-id-10 div.sk-item::before, #sk-container-id-10 div.sk-parallel-item::before {content: \"\";position: absolute;border-left: 1px solid gray;box-sizing: border-box;top: 0;bottom: 0;left: 50%;z-index: -1;}#sk-container-id-10 div.sk-parallel-item {display: flex;flex-direction: column;z-index: 1;position: relative;background-color: white;}#sk-container-id-10 div.sk-parallel-item:first-child::after {align-self: flex-end;width: 50%;}#sk-container-id-10 div.sk-parallel-item:last-child::after {align-self: flex-start;width: 50%;}#sk-container-id-10 div.sk-parallel-item:only-child::after {width: 0;}#sk-container-id-10 div.sk-dashed-wrapped {border: 1px dashed gray;margin: 0 0.4em 0.5em 0.4em;box-sizing: border-box;padding-bottom: 0.4em;background-color: white;}#sk-container-id-10 div.sk-label label {font-family: monospace;font-weight: bold;display: inline-block;line-height: 1.2em;}#sk-container-id-10 div.sk-label-container {text-align: center;}#sk-container-id-10 div.sk-container {/* jupyter's `normalize.less` sets `[hidden] { display: none; }` but bootstrap.min.css set `[hidden] { display: none !important; }` so we also need the `!important` here to be able to override the default hidden behavior on the sphinx rendered scikit-learn.org. See: https://github.com/scikit-learn/scikit-learn/issues/21755 */display: inline-block !important;position: relative;}#sk-container-id-10 div.sk-text-repr-fallback {display: none;}</style><div id=\"sk-container-id-10\" class=\"sk-top-container\"><div class=\"sk-text-repr-fallback\"><pre>LinearRegression()</pre><b>In a Jupyter environment, please rerun this cell to show the HTML representation or trust the notebook. <br />On GitHub, the HTML representation is unable to render, please try loading this page with nbviewer.org.</b></div><div class=\"sk-container\" hidden><div class=\"sk-item\"><div class=\"sk-estimator sk-toggleable\"><input class=\"sk-toggleable__control sk-hidden--visually\" id=\"sk-estimator-id-10\" type=\"checkbox\" checked><label for=\"sk-estimator-id-10\" class=\"sk-toggleable__label sk-toggleable__label-arrow\">LinearRegression</label><div class=\"sk-toggleable__content\"><pre>LinearRegression()</pre></div></div></div></div></div>"
      ],
      "text/plain": [
       "LinearRegression()"
      ]
     },
     "execution_count": 33,
     "metadata": {},
     "output_type": "execute_result"
    }
   ],
   "source": [
    "Poly2s = LinearRegression()\n",
    "Poly2s.fit(xtrp2s,ytr)"
   ]
  },
  {
   "cell_type": "code",
   "execution_count": 34,
   "id": "75e372c8",
   "metadata": {},
   "outputs": [
    {
     "data": {
      "text/plain": [
       "322584300923.35675"
      ]
     },
     "execution_count": 34,
     "metadata": {},
     "output_type": "execute_result"
    }
   ],
   "source": [
    "rmsep2s =(mean_squared_error( yts, Poly2s.predict(xtsp2s)))**0.5\n",
    "rmsep2s"
   ]
  },
  {
   "cell_type": "code",
   "execution_count": 35,
   "id": "3b763514",
   "metadata": {},
   "outputs": [
    {
     "data": {
      "text/plain": [
       "0.6319126026091214"
      ]
     },
     "execution_count": 35,
     "metadata": {},
     "output_type": "execute_result"
    }
   ],
   "source": [
    "r2_score( yts, Poly2.predict(xtsp2))"
   ]
  },
  {
   "cell_type": "code",
   "execution_count": 36,
   "id": "e0ae784f",
   "metadata": {},
   "outputs": [
    {
     "data": {
      "text/plain": [
       "-1474946432049655.8"
      ]
     },
     "execution_count": 36,
     "metadata": {},
     "output_type": "execute_result"
    }
   ],
   "source": [
    "r2_score( yts, Poly2s.predict(xtsp2s))"
   ]
  },
  {
   "cell_type": "markdown",
   "id": "cfd2305f",
   "metadata": {},
   "source": [
    "### Poly 3"
   ]
  },
  {
   "cell_type": "code",
   "execution_count": 37,
   "id": "d78c0c34",
   "metadata": {},
   "outputs": [],
   "source": [
    "xtrp3 = p3.fit_transform(xtr)\n",
    "xtrp3s = p3.fit_transform(xtrs)\n",
    "xtsp3 = p3.fit_transform(xts)\n",
    "xtsp3s = p3.fit_transform(xtss)"
   ]
  },
  {
   "cell_type": "code",
   "execution_count": 38,
   "id": "ff3eb2ff",
   "metadata": {},
   "outputs": [
    {
     "data": {
      "text/plain": [
       "(16433, 8436)"
      ]
     },
     "execution_count": 38,
     "metadata": {},
     "output_type": "execute_result"
    }
   ],
   "source": [
    "xtrp3.shape"
   ]
  },
  {
   "cell_type": "code",
   "execution_count": null,
   "id": "1ee016b5",
   "metadata": {},
   "outputs": [],
   "source": [
    "Poly3 = LinearRegression()\n",
    "Poly3.fit(xtrp3,ytr)"
   ]
  },
  {
   "cell_type": "code",
   "execution_count": null,
   "id": "65dc401f",
   "metadata": {},
   "outputs": [],
   "source": [
    "rmsep3 = (mean_squared_error(yts, Poly3.predict(xtsp3)))\n",
    "rmsep3"
   ]
  },
  {
   "cell_type": "code",
   "execution_count": null,
   "id": "e62a4e3b",
   "metadata": {},
   "outputs": [],
   "source": [
    "Poly3s = LinearRegression()\n",
    "Poly3s.fit(xtrp3s,ytr)"
   ]
  },
  {
   "cell_type": "code",
   "execution_count": null,
   "id": "eebfcd31",
   "metadata": {},
   "outputs": [],
   "source": [
    "rmse3s = ( mean_squared_error(yts, Poly3s.predict(xtsp3s)))\n",
    "rmse3s"
   ]
  },
  {
   "cell_type": "code",
   "execution_count": null,
   "id": "cbbbed1b",
   "metadata": {},
   "outputs": [],
   "source": [
    "r2_score(yts, Poly3.predict(xtsp3))"
   ]
  },
  {
   "cell_type": "code",
   "execution_count": null,
   "id": "d4f52e6d",
   "metadata": {},
   "outputs": [],
   "source": [
    "r2_score(yts, Poly3s.predict(xtsp3s))"
   ]
  },
  {
   "cell_type": "markdown",
   "id": "922d368e",
   "metadata": {},
   "source": [
    "## Random Forest"
   ]
  },
  {
   "cell_type": "code",
   "execution_count": null,
   "id": "ea0d7744",
   "metadata": {},
   "outputs": [],
   "source": [
    "from sklearn.model_selection import GridSearchCV"
   ]
  },
  {
   "cell_type": "code",
   "execution_count": null,
   "id": "4ee59158",
   "metadata": {},
   "outputs": [],
   "source": [
    "param_grids = { 'n_estimators' :[ 50, 100, 150, 200 ],\n",
    "                'max_depth' : [10,20,30],\n",
    "                'min_samples_split' : [2,5,10],\n",
    "                'max_features' : ['auto', 'sqrt', 'log2']}"
   ]
  },
  {
   "cell_type": "code",
   "execution_count": null,
   "id": "edc7a449",
   "metadata": {},
   "outputs": [],
   "source": [
    "rf = RandomForestRegressor( random_state=42)"
   ]
  },
  {
   "cell_type": "code",
   "execution_count": null,
   "id": "2148ec8e",
   "metadata": {},
   "outputs": [],
   "source": [
    "gs = GridSearchCV(estimator=rf, param_grid=param_grids, cv=5)"
   ]
  },
  {
   "cell_type": "code",
   "execution_count": null,
   "id": "1cd30118",
   "metadata": {},
   "outputs": [],
   "source": [
    "gs.fit(xtr,ytr)"
   ]
  },
  {
   "cell_type": "code",
   "execution_count": null,
   "id": "edaccee1",
   "metadata": {},
   "outputs": [],
   "source": [
    "gs.best_params_"
   ]
  },
  {
   "cell_type": "code",
   "execution_count": null,
   "id": "e8756c6e",
   "metadata": {},
   "outputs": [],
   "source": [
    "gs.best_score_"
   ]
  },
  {
   "cell_type": "code",
   "execution_count": null,
   "id": "15ca9f64",
   "metadata": {},
   "outputs": [],
   "source": [
    "Rf = gs.best_estimator_"
   ]
  },
  {
   "cell_type": "code",
   "execution_count": null,
   "id": "980a11b7",
   "metadata": {},
   "outputs": [],
   "source": [
    "rmserf = (mean_squared_error(yts, Rf.predict(xts)))**0.5\n",
    "rmserf"
   ]
  },
  {
   "cell_type": "code",
   "execution_count": null,
   "id": "9d8c236f",
   "metadata": {},
   "outputs": [],
   "source": [
    "r2_score(yts, Rf.predict(xts))"
   ]
  },
  {
   "cell_type": "code",
   "execution_count": null,
   "id": "acc5a2ee",
   "metadata": {},
   "outputs": [],
   "source": []
  }
 ],
 "metadata": {
  "kernelspec": {
   "display_name": "Python 3 (ipykernel)",
   "language": "python",
   "name": "python3"
  },
  "language_info": {
   "codemirror_mode": {
    "name": "ipython",
    "version": 3
   },
   "file_extension": ".py",
   "mimetype": "text/x-python",
   "name": "python",
   "nbconvert_exporter": "python",
   "pygments_lexer": "ipython3",
   "version": "3.11.2"
  }
 },
 "nbformat": 4,
 "nbformat_minor": 5
}
